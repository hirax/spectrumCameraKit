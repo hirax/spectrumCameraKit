{
 "cells": [
  {
   "cell_type": "code",
   "execution_count": 2,
   "metadata": {},
   "outputs": [],
   "source": [
    "import cv2\n",
    "import numpy as np\n",
    "import math\n",
    "\n",
    "# 分光情報処理のために読み込む\n",
    "# conda install -c conda-forge colour-science\n",
    "# https://github.com/colour-science/Colour/\n",
    "import colour\n",
    "from colour.plotting import *\n",
    "\n",
    "import matplotlib.pyplot as plt\n",
    "%matplotlib inline"
   ]
  },
  {
   "cell_type": "code",
   "execution_count": 13,
   "metadata": {},
   "outputs": [
    {
     "name": "stdout",
     "output_type": "stream",
     "text": [
      "[192, 108]\n"
     ]
    },
    {
     "data": {
      "text/plain": [
       "True"
      ]
     },
     "execution_count": 13,
     "metadata": {},
     "output_type": "execute_result"
    },
    {
     "data": {
      "image/png": "[encoded data removed]",
      "text/plain": [
       "<Figure size 500x2000 with 1 Axes>"
      ]
     },
     "metadata": {
      "needs_background": "light"
     },
     "output_type": "display_data"
    }
   ],
   "source": [
    "# 撮影モードは、Landscape前提、としておく\n",
    "# つまり、波長方向は w 方向\n",
    "# 画像の空間(h)方向は h 方向\n",
    "# カメラの向きが、空間(w)方向\n",
    "\n",
    "# 処理設定\n",
    "# 動画をファイルから読み込むか、カメラから読み込むかを決める\n",
    "isCamera = False\n",
    "# 画像ファイルを保存するか\n",
    "isFileSave = False\n",
    "\n",
    "# 逐次処理中に分光画像生成を行うか\n",
    "isCreateSpectrumImage = True\n",
    "\n",
    "# 横位置として、780-1300 px がスペクトル部分\n",
    "# デバイスが撮影するだろう画像サイズ（記入値はiPhone 11 の場合）\n",
    "assumptionW = 1920\n",
    "assumptionH = 1080\n",
    "\n",
    "# デバイスが撮影するだろう画像サイズ下で、\n",
    "# 分光情報が得られるだろうX位置・領域 (これも想定)\n",
    "spectorPixelStart = 800\n",
    "spectorPixelWidth = 1300-780 # ⇒520\n",
    "\n",
    "#-----------縮尺比率を決める-----------------------\n",
    "# 撮影画像を（計算時間短縮のために）長さで何分の一にするかを決める\n",
    "compressionRatioInLength = 10  # 10分の1\n",
    "\n",
    "#-----------縮尺比率にしたがったピクセルサイズを決める-----------------------\n",
    "# a as assumption\n",
    "aW = int( assumptionW / compressionRatioInLength ) # a as assumption\n",
    "aH = int( assumptionH / compressionRatioInLength )\n",
    "\n",
    "print([aW, aH])\n",
    "aSpectorPixelWidth = int(spectorPixelWidth / compressionRatioInLength)\n",
    "aSpectorPixelStart = int(spectorPixelStart / compressionRatioInLength)\n",
    "\n",
    "# 単純化したRGB値をどの（x方向）画素から読み込むか\n",
    "aBOffset = int(aSpectorPixelWidth/6)\n",
    "aGOffset = int(3*aSpectorPixelWidth/6)\n",
    "aROffset = int(5*aSpectorPixelWidth/6)\n",
    "\n",
    "# 処理するピクセル数を決める\n",
    "def normalDist(x,  mu = 0, sigma = 1):\n",
    "    return np.exp( - ( x - mu )**2 / ( 2 * sigma**2 ) )\n",
    "\n",
    "gg = np.array( [ ( 0.2 + normalDist( x, 40, 12 ) ) / 1.2 for x in np.linspace( 0, 99, aSpectorPixelWidth ) ] )\n",
    "rg = np.array( [ ( 0.2 + normalDist( x, 65, 7 ) )    / 1.2 for x in np.linspace( 0, 99, aSpectorPixelWidth ) ] )\n",
    "\n",
    "# 波長 420nmから730nmまでの分光スペクトルを、\n",
    "# RGB素子に撮像されたRGB画像配列から、下記としてフィッティングする\n",
    "def slice2spec( slice ):\n",
    "    b = np.array( [ x**2.2 * 255 for x in slice[ ::1, 0 ] / 255 ] )\n",
    "    g = np.array( [ x**2.2 * 255 for x in slice[ ::1, 1 ] / 255 ] )\n",
    "    r = np.array(  [ x**2.2 * 255 for x in slice[ ::1, 2 ] / 255 ] ) \n",
    "    return 1.6 * b + 1.5 * g/gg + 0.7 * r/rg\n",
    "\n",
    "# 波長リスト\n",
    "wl = np.linspace( 420, 730, aSpectorPixelWidth )\n",
    "\n",
    "# ------------撮影時の歪み補正用の行列を生成する------------\n",
    "# 画像サイズや歪み程度が一定なら、動画読み込みより事前に処理しておく\n",
    "#m1 = 0.1 # ずれ補正の傾斜調整、1 より小さな値に設定する、0になると補正量は0になる\n",
    "m2 = int(-45.0/compressionRatioInLength) #  中央と上下両端での、横方向ズレをピクセルで表したもの\n",
    "mapY = np.zeros( (aH, aW), dtype=np.float32 ) \n",
    "mapX = np.zeros( (aH, aW), dtype=np.float32 )\n",
    "for y in range( aH ): \n",
    "    mapY[y, :] = y # Y方向は変化させない\n",
    "for y in range( aH ): \n",
    "    for x in range( aW ): \n",
    "        mapX[y, x] = x + m2 * math.cos( (float(y)-float(aH)/2.0) / (float(aH)/2.0) * math.pi/2.0 )\n",
    "#cv2.imwrite( 'mapX.png', mapX )\n",
    "\n",
    "#-----------動画デバイスを開く(撮影ループ)-----------------------\n",
    "if isCamera: # カメラから動画を読み込む場合\n",
    "    cap = cv2.VideoCapture(1)\n",
    "    # カメラの場合は「読み込む時間長さ（フレーム数）」を決めておく\n",
    "    frame_n = 25*10 # フレームレート(frame/sec) * 撮影時間(sec.)\n",
    "else:           # ファイルから動画を読み込む場合\n",
    "    cap = cv2.VideoCapture(\"21DA6494-D711-4C74-AD92-85CD4AAC028B.MOV\")\n",
    "    frame_n = round( cap.get(cv2.CAP_PROP_FRAME_COUNT) )\n",
    "if not cap.isOpened(): # 動画ファイルを開くことができなかったら\n",
    "    exit()\n",
    "\n",
    "# 画像サイズを取得する\n",
    "w = round( cap.get( cv2.CAP_PROP_FRAME_WIDTH ) )\n",
    "h  = round( cap.get( cv2.CAP_PROP_FRAME_HEIGHT ) )\n",
    "\n",
    "# RGB3チャンネル画像格納用行列を作成する\n",
    "simpleRGBImg = np.zeros( ( aH, int(frame_n/compressionRatioInLength)+1, 3 ), np.float )\n",
    "\n",
    "# 2次元分光画像行列を作成する\n",
    "spectorImg = [] \n",
    "\n",
    "# 動画読み取りループ\n",
    "n = 0\n",
    "while( True ):\n",
    "    ret, frame = cap.read()  # 動画象読み取り\n",
    "\n",
    "    # 各種終了処理\n",
    "    if not ret: # 画像を読み取れなかった場合\n",
    "        break\n",
    "    if ( (cv2.waitKey(1) & 0xFF == ord('q')) ): # OpenCV Windowで q を押すと終了（しちゃう）\n",
    "        break\n",
    "\n",
    "    frame = cv2.resize(frame , (aW, aH) )\n",
    "\n",
    "    undistortFrame = cv2.remap( frame, mapX, mapY, cv2.INTER_CUBIC)\n",
    "    # 歪み補正や位置確認のために1枚目をファイル保存する場合\n",
    "    if n==0 and isFileSave:\n",
    "        cv2.imwrite('frame.png', frame)\n",
    "        cv2.imwrite('undistortFrame.png', undistortFrame)\n",
    "\n",
    "    #JupyterでOpenCVを使うときにdestroyAllWindows()すると固まってしまう\n",
    "    #https://qiita.com/kemako/items/fd72c65ca964a1b74fef\n",
    "    cv2.startWindowThread()\n",
    "    cv2.imshow('frame', undistortFrame)     \n",
    "    #cv2.imshow('frame', frame)     \n",
    "    \n",
    "    # 簡易ＲＧＢ画像出力\n",
    "    if n % compressionRatioInLength == 0:\n",
    "        simpleRGBImg[ :, int(n/compressionRatioInLength), 0 ] = frame[ :, aSpectorPixelStart + aROffset, 2 ].astype( np.float ) # R\n",
    "        simpleRGBImg[ :, int(n/compressionRatioInLength), 1 ] = frame[ :, aSpectorPixelStart + aGOffset, 1 ].astype( np.float ) # G\n",
    "        simpleRGBImg[ :, int(n/compressionRatioInLength), 2 ] = frame[ :, aSpectorPixelStart + aBOffset,0 ].astype( np.float ) # B\n",
    "    \n",
    "    # -----スペクトル列作成＆スペクトル画像に追加----------\n",
    "    if isCreateSpectrumImage and n % compressionRatioInLength == 0:\n",
    "        spectorSlice = []\n",
    "        for y in range( 0, aH, 1 ):\n",
    "            spector = frame[  y,  \n",
    "                    aSpectorPixelStart : aSpectorPixelStart+aSpectorPixelWidth, \n",
    "                    : ].astype( np.float )\n",
    "            powData = slice2spec( spector )  \n",
    "            WLvsPow =  dict( zip ( wl, powData ) ) # 波長：強度　の辞書リストを作る\n",
    "            sdm = colour.SpectralDistribution(WLvsPow, name='sdm')\n",
    "            spectorSlice.append( sdm )\n",
    "        spectorImg.append( spectorSlice )\n",
    "\n",
    "    n = n+1\n",
    "    if n >=  frame_n:\n",
    "        break\n",
    "\n",
    "cap.release()                     # 動画象読み取り終了\n",
    "cv2.waitKey(1)\n",
    "cv2.destroyAllWindows()   # 動画象表示終了\n",
    "cv2.waitKey(1)\n",
    "\n",
    "# 簡易 RGB 画像の表示\n",
    "plt.figure( figsize=(10, 40), dpi=50 )\n",
    "plt.axis(\"off\")\n",
    "plt.imshow( simpleRGBImg/255, aspect=0.1 )\n",
    "cv2.imwrite( 'simpleRGBImg.png', simpleRGBImg )"
   ]
  },
  {
   "cell_type": "code",
   "execution_count": 16,
   "metadata": {},
   "outputs": [
    {
     "data": {
      "image/png": "[encoded data removed]",
      "text/plain": [
       "<Figure size 432x288 with 1 Axes>"
      ]
     },
     "metadata": {
      "needs_background": "light"
     },
     "output_type": "display_data"
    },
    {
     "data": {
      "text/plain": [
       "(<Figure size 432x288 with 1 Axes>,\n",
       " <matplotlib.axes._subplots.AxesSubplot at 0x132dfd4810>)"
      ]
     },
     "execution_count": 16,
     "metadata": {},
     "output_type": "execute_result"
    }
   ],
   "source": [
    "sd_copy = spectorImg[10][50].copy()\n",
    "\n",
    "# Interpolating the copied sample spectral distribution.\n",
    "sd_copy.interpolate( colour.SpectralShape(420, 730, 10) )\n",
    "colour.XYZ_to_sRGB( colour.sd_to_XYZ( sd_copy )/100.0 )\n",
    "\n",
    "plot_single_sd( spectorImg[0][0] )"
   ]
  },
  {
   "cell_type": "code",
   "execution_count": 37,
   "metadata": {},
   "outputs": [
    {
     "data": {
      "text/plain": [
       "True"
      ]
     },
     "execution_count": 37,
     "metadata": {},
     "output_type": "execute_result"
    },
    {
     "data": {
      "image/png": "[encoded data removed]",
      "text/plain": [
       "<Figure size 600x800 with 1 Axes>"
      ]
     },
     "metadata": {
      "needs_background": "light"
     },
     "output_type": "display_data"
    }
   ],
   "source": [
    "img500 = np.array([\n",
    "   [ spector.copy().interpolate( \n",
    "    colour.SpectralShape(420, 730, \n",
    "                         10 # 波長ステップ\n",
    "                        ) )[ 500 ]\n",
    "       for spector in spectorSlice\n",
    "   ] for spectorSlice in spectorImg\n",
    "])\n",
    "\n",
    "plt.figure( figsize=(12, 16), dpi=50 )\n",
    "plt.axis('off')\n",
    "plt.imshow(  cv2.flip(cv2.rotate(img500, cv2.ROTATE_90_CLOCKWISE), 1)/np.max(  img500 ),\n",
    "           aspect=0.1,  cmap='gray')\n",
    "\n",
    "cv2.imwrite('img500.tiff', img500/np.max(  img500 ) )"
   ]
  },
  {
   "cell_type": "code",
   "execution_count": null,
   "metadata": {},
   "outputs": [],
   "source": []
  }
 ],
 "metadata": {
  "kernelspec": {
   "display_name": "Python 3",
   "language": "python",
   "name": "python3"
  },
  "language_info": {
   "codemirror_mode": {
    "name": "ipython",
    "version": 3
   },
   "file_extension": ".py",
   "mimetype": "text/x-python",
   "name": "python",
   "nbconvert_exporter": "python",
   "pygments_lexer": "ipython3",
   "version": "3.7.6"
  }
 },
 "nbformat": 4,
 "nbformat_minor": 4
}
